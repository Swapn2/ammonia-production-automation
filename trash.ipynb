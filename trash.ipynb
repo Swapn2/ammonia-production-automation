import win32com.client
import time  # Optional delay for debugging

print("Script started...")

# Step 1: Launch Aspen HYSYS
try:
    hysys = win32com.client.Dispatch("HYSYS.Application")
    hysys.Visible = True  # Make sure HYSYS is visible
    print("HYSYS opened successfully.")
except Exception as e:
    print(f"Error opening HYSYS: {e}")
    exit()

# Step 2: Open the HYSYS Case
case_path = r"C:\Users\cclab1\Desktop\swapn_pc.hsc"  # Update with actual path

try:
    case = hysys.SimulationCases.Open(case_path)
    print(f"HYSYS case '{case_path}' opened successfully.")
except Exception as e:
    print(f"Error opening HYSYS case: {e}")
    exit()

# Step 3: Get Reactor-Feed Stream
reactor_feed_stream_name = "Reactor-feed"  # Modify if different
try:
    reactor_feed = case.Flowsheet.MaterialStreams.Item(reactor_feed_stream_name)
    print(f"Stream '{reactor_feed_stream_name}' accessed successfully.")
except Exception as e:
    print(f"Error accessing stream '{reactor_feed_stream_name}': {e}")
    exit()

# Step 4: Define Parameter Ranges
temp_values = [300, 320, 340]  # Example temperatures in K
pressure_values = [101325, 150000, 200000]  # Pressures in Pa

# Step 5: Run Simulations with Different Parameters
reactor_outlet_name = "R1-out"  # Modify if different

for temp in temp_values:
    for pressure in pressure_values:
        print(f"\nSetting 'Reactor-feed' Temperature: {temp} K, Pressure: {pressure} Pa")

        # ✅ Update Reactor-Feed Conditions
        try:
            reactor_feed.TemperatureValue = temp
            reactor_feed.PressureValue = pressure
            print(f"Updated '{reactor_feed_stream_name}' with T={temp} K, P={pressure} Pa")
        except Exception as e:
            print(f"Error updating stream properties: {e}")
            continue  # Skip if error occurs

        # Run the simulation
        try:
            case.Run()
            print("Simulation run completed.")
        except Exception as e:
            print(f"Error running simulation: {e}")
            continue  # Skip if error occurs

        # Get output values from Reactor Outlet (R1-out)
        try:
            reactor_outlet = case.Flowsheet.MaterialStreams.Item(reactor_outlet_name)
            flow_rate = reactor_outlet.MassFlowValue  # Corrected property
            composition = reactor_outlet.ComponentMassFraction  # Example property
            
            print(f"Results -> T={temp} K, P={pressure} Pa -> Flow={flow_rate} kg/s, Composition={composition}")
        except Exception as e:
            print(f"Error fetching results: {e}")

# Step 6: Close the HYSYS Case
try:
    case.Close()
    print("HYSYS case closed successfully.")
except Exception as e:
    print(f"Error closing HYSYS case: {e}")

print("Script execution completed.")
